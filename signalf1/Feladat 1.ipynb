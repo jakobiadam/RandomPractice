{
 "cells": [
  {
   "cell_type": "code",
   "execution_count": 1,
   "metadata": {},
   "outputs": [],
   "source": [
    "import numpy as np\n",
    "import matplotlib.pyplot as plt\n",
    "import math\n",
    "import random"
   ]
  },
  {
   "cell_type": "markdown",
   "metadata": {},
   "source": [
    "# 1. feladat"
   ]
  },
  {
   "cell_type": "markdown",
   "metadata": {},
   "source": [
    "![1_1_1.JPG](1_1_1.JPG)"
   ]
  },
  {
   "cell_type": "markdown",
   "metadata": {},
   "source": [
    "Feltétel: T(T(vektor))=vektor teljesül az alábbi próbáknál"
   ]
  },
  {
   "cell_type": "code",
   "execution_count": 2,
   "metadata": {},
   "outputs": [],
   "source": [
    "def tukrozes(n,v,p=np.matrix([[0],[0],[0]])):\n",
    "    n=n/np.linalg.norm(n)\n",
    "    d=-p.T*n\n",
    "    vp=np.matrix([[v[0,0]],\n",
    "                  [v[1,0]],\n",
    "                  [v[2,0]],\n",
    "                  [1]])\n",
    "\n",
    "    mtp=np.matrix(\n",
    "    [[1-2*n[0,0]**2  , -2*n[0,0]*n[1,0] , -2*n[0,0]*n[2,0] , -2*n[0,0]*d[0,0]],\n",
    "     [-2*n[0,0]*n[1,0] , 1-2*n[1,0]**2  , -2*n[1,0]*n[2,0] , -2*n[1,0]*d[0,0]],\n",
    "     [-2*n[0,0]*n[2,0] , -2*n[1,0]*n[2,0] , 1-2*n[2,0]**2  , -2*n[2,0]*d[0,0]],\n",
    "     [     0       ,      0       ,       0      ,      1   ]])\n",
    "    \n",
    "    vpp=mtp*vp\n",
    "    vv=np.matrix([[vpp[0,0]],[vpp[1,0]],[vpp[2,0]]])\n",
    "    return vv"
   ]
  },
  {
   "cell_type": "code",
   "execution_count": 3,
   "metadata": {},
   "outputs": [
    {
     "name": "stdout",
     "output_type": "stream",
     "text": [
      "[[1]\n",
      " [0]\n",
      " [0]]\n",
      "[[-1.]\n",
      " [ 0.]\n",
      " [ 0.]]\n",
      "[[1.]\n",
      " [0.]\n",
      " [0.]]\n"
     ]
    }
   ],
   "source": [
    "v=np.matrix([[1],[0],[0]])\n",
    "n=np.matrix([[-1],[0],[0]])\n",
    "v2=tukrozes(n,v)\n",
    "v3=tukrozes(n,v2)\n",
    "print(v)\n",
    "print(v2)\n",
    "print(v3)"
   ]
  },
  {
   "cell_type": "code",
   "execution_count": 4,
   "metadata": {},
   "outputs": [
    {
     "name": "stdout",
     "output_type": "stream",
     "text": [
      "[[1]\n",
      " [2]\n",
      " [3]]\n",
      "[[1.]\n",
      " [2.]\n",
      " [3.]]\n",
      "[[1.]\n",
      " [2.]\n",
      " [3.]]\n"
     ]
    }
   ],
   "source": [
    "v=np.matrix([[1],[2],[3]])\n",
    "n=np.matrix([[1],[2],[3]])\n",
    "p=np.matrix([[1],[2],[3]])\n",
    "v2=tukrozes(n,v,p)\n",
    "v3=tukrozes(n,v2,p)\n",
    "print(v)\n",
    "print(v2)\n",
    "print(v3)"
   ]
  },
  {
   "cell_type": "code",
   "execution_count": 5,
   "metadata": {
    "scrolled": true
   },
   "outputs": [
    {
     "name": "stdout",
     "output_type": "stream",
     "text": [
      "[[1]\n",
      " [2]\n",
      " [3]]\n",
      "[[-1.]\n",
      " [-2.]\n",
      " [-3.]]\n",
      "[[1.]\n",
      " [2.]\n",
      " [3.]]\n"
     ]
    }
   ],
   "source": [
    "v=np.matrix([[1],[2],[3]])\n",
    "n=np.matrix([[1],[2],[3]])\n",
    "v2=tukrozes(n,v)\n",
    "v3=tukrozes(n,v2)\n",
    "print(v)\n",
    "print(v2)\n",
    "print(v3)"
   ]
  },
  {
   "cell_type": "code",
   "execution_count": 6,
   "metadata": {},
   "outputs": [
    {
     "name": "stdout",
     "output_type": "stream",
     "text": [
      "[[ 1]\n",
      " [ 2]\n",
      " [13]]\n",
      "[[-4.14285714]\n",
      " [-4.42857143]\n",
      " [11.71428571]]\n",
      "[[ 1.]\n",
      " [ 2.]\n",
      " [13.]]\n"
     ]
    }
   ],
   "source": [
    "a=np.matrix([[1],[2],[13]])\n",
    "n=np.matrix([[4],[5],[1]])\n",
    "a2=tukrozes(n,a)\n",
    "a3=tukrozes(n,a2)\n",
    "print(a)\n",
    "print(a2)\n",
    "print(a3)"
   ]
  },
  {
   "cell_type": "markdown",
   "metadata": {},
   "source": [
    "# 2. feladat"
   ]
  },
  {
   "cell_type": "code",
   "execution_count": 7,
   "metadata": {},
   "outputs": [],
   "source": [
    "def forgat_x(v, theta):\n",
    "\n",
    "    mfx=np.matrix(\n",
    "    [[       1        ,          0       ,         0       ],\n",
    "     [       0        ,  math.cos(theta) , -math.sin(theta)],\n",
    "     [       0        ,  math.sin(theta) ,  math.cos(theta)]])\n",
    "    return mfx*v"
   ]
  },
  {
   "cell_type": "code",
   "execution_count": 8,
   "metadata": {},
   "outputs": [],
   "source": [
    "def forgat_y(v, theta):\n",
    "\n",
    "    mfy=np.matrix(\n",
    "     [[math.cos(theta) ,          0      , math.sin(theta)],\n",
    "     [       0         ,          1      ,        0       ],\n",
    "     [-math.sin(theta) , math.sin(theta) ,  math.cos(theta)]])\n",
    "    return mfy*v"
   ]
  },
  {
   "cell_type": "code",
   "execution_count": 9,
   "metadata": {},
   "outputs": [],
   "source": [
    "def forgat_z(v, theta):\n",
    "\n",
    "    mfz=np.matrix(\n",
    "    [[math.cos(theta) , -math.sin(theta) , 0],\n",
    "     [math.sin(theta) ,  math.cos(theta) , 0],\n",
    "     [       0        ,          0       , 1]])\n",
    "    return mfz*v"
   ]
  },
  {
   "cell_type": "code",
   "execution_count": 10,
   "metadata": {},
   "outputs": [
    {
     "name": "stdout",
     "output_type": "stream",
     "text": [
      "[[-23.05806028]\n",
      " [ -3.65045969]\n",
      " [  7.        ]]\n",
      "[[-23.05806028]\n",
      " [ -3.65045969]\n",
      " [  7.        ]]\n"
     ]
    }
   ],
   "source": [
    "#forgatás z tengelyre kipróbálva, addíciós tulajdonság működik\n",
    "v=np.matrix([[4],[23],[7]])\n",
    "v2=forgat_z(v,1.5)\n",
    "v3=forgat_z(v2,0.4)\n",
    "v4=forgat_z(v,1.9)\n",
    "print(v3)\n",
    "print(v4)"
   ]
  },
  {
   "cell_type": "code",
   "execution_count": 11,
   "metadata": {},
   "outputs": [
    {
     "name": "stdout",
     "output_type": "stream",
     "text": [
      "[[-11.76822436]\n",
      " [  2.44761188]\n",
      " [ 22.77863656]]\n",
      "[[-17.49385964]\n",
      " [ 14.25610788]\n",
      " [ 21.09607138]]\n"
     ]
    }
   ],
   "source": [
    "#különböző tengelyeken végzett forgatások sorrendje nem felcserélhető!\n",
    "v=np.matrix([[4],[23],[7]])\n",
    "v2=forgat_z(v,1.5)\n",
    "v3=forgat_x(v2,0.4)\n",
    "v4=forgat_y(v3,0.7)\n",
    "v5=forgat_x(v,0.4)\n",
    "v6=forgat_y(v5,0.7)\n",
    "v7=forgat_z(v6,1.5)\n",
    "print(v4)\n",
    "print(v7)"
   ]
  },
  {
   "cell_type": "markdown",
   "metadata": {},
   "source": [
    "# 3. feladat"
   ]
  },
  {
   "cell_type": "code",
   "execution_count": 12,
   "metadata": {},
   "outputs": [
    {
     "data": {
      "text/plain": [
       "0.0"
      ]
     },
     "execution_count": 12,
     "metadata": {},
     "output_type": "execute_result"
    }
   ],
   "source": [
    "#A 2018 tag elveszik.\n",
    "#A problémát a nagyságrendek közötti különbség és a számítógépek számábrázolása jelenti\n",
    "\n",
    "1e23+2018-1e23"
   ]
  },
  {
   "cell_type": "code",
   "execution_count": 13,
   "metadata": {},
   "outputs": [
    {
     "data": {
      "text/plain": [
       "2018"
      ]
     },
     "execution_count": 13,
     "metadata": {},
     "output_type": "execute_result"
    }
   ],
   "source": [
    "10**23+2018-10**23"
   ]
  },
  {
   "cell_type": "code",
   "execution_count": 14,
   "metadata": {},
   "outputs": [
    {
     "data": {
      "text/plain": [
       "2018.0"
      ]
     },
     "execution_count": 14,
     "metadata": {},
     "output_type": "execute_result"
    }
   ],
   "source": [
    "math.fsum([1e23,2018,-1e23])"
   ]
  },
  {
   "cell_type": "code",
   "execution_count": 15,
   "metadata": {},
   "outputs": [
    {
     "data": {
      "text/plain": [
       "0.9999999999999999"
      ]
     },
     "execution_count": 15,
     "metadata": {},
     "output_type": "execute_result"
    }
   ],
   "source": [
    "0.1+0.1+0.1+0.1+0.1+0.1+0.1+0.1+0.1+0.1"
   ]
  },
  {
   "cell_type": "code",
   "execution_count": 16,
   "metadata": {},
   "outputs": [
    {
     "data": {
      "text/plain": [
       "1.0"
      ]
     },
     "execution_count": 16,
     "metadata": {},
     "output_type": "execute_result"
    }
   ],
   "source": [
    "a=[0.1,0.1,0.1,0.1,0.1,0.1,0.1,0.1,0.1,0.1]\n",
    "math.fsum(a)"
   ]
  },
  {
   "cell_type": "code",
   "execution_count": 17,
   "metadata": {
    "slideshow": {
     "slide_type": "fragment"
    }
   },
   "outputs": [
    {
     "name": "stdout",
     "output_type": "stream",
     "text": [
      "reszek:\n",
      "[1e+23]\n",
      "a és b: 99999999999999991611392.000000  -  0.100000\n",
      "felso és also: 99999999999999991611392.000000  -  0.100000\n",
      "reszek:\n",
      "[0.1, 1e+23]\n",
      "a és b: 0.100000  -  0.000000\n",
      "felso és also: 0.100000  -  0.000000\n",
      "a és b: 99999999999999991611392.000000  -  0.100000\n",
      "felso és also: 99999999999999991611392.000000  -  0.100000\n",
      "reszek:\n",
      "[1e-23, 0.1, 1e+23]\n",
      "a és b: 0.100000  -  0.000000\n",
      "felso és also: 0.100000  -  0.000000\n",
      "a és b: 0.100000  -  0.100000\n",
      "felso és also: 0.200000  -  0.000000\n",
      "a és b: 99999999999999991611392.000000  -  0.200000\n",
      "felso és also: 99999999999999991611392.000000  -  0.200000\n",
      "reszek:\n",
      "[1e-23, 0.2, 1e+23]\n",
      "a és b: 99999999999999991611392.000000  -  0.000000\n",
      "felso és also: 99999999999999991611392.000000  -  0.000000\n",
      "a és b: 99999999999999991611392.000000  -  0.200000\n",
      "felso és also: 99999999999999991611392.000000  -  0.200000\n",
      "a és b: 99999999999999991611392.000000  -  99999999999999991611392.000000\n",
      "felso és also: 199999999999999983222784.000000  -  0.000000\n",
      "reszek:\n",
      "[1e-23, 0.2, 2e+23]\n",
      "a és b: 0.100000  -  0.000000\n",
      "felso és also: 0.100000  -  0.000000\n",
      "a és b: 0.200000  -  0.100000\n",
      "felso és also: 0.300000  -  -0.000000\n",
      "a és b: 199999999999999983222784.000000  -  0.300000\n",
      "felso és also: 199999999999999983222784.000000  -  0.300000\n",
      "reszek:\n",
      "[1e-23, -2.7755575615628914e-17, 0.30000000000000004, 2e+23]\n",
      "a és b: 0.000000  -  0.000000\n",
      "felso és also: 0.000000  -  0.000000\n",
      "a és b: -0.000000  -  0.000000\n",
      "felso és also: -0.000000  -  0.000000\n",
      "a és b: 0.300000  -  -0.000000\n",
      "felso és also: 0.300000  -  -0.000000\n",
      "a és b: 199999999999999983222784.000000  -  0.300000\n",
      "felso és also: 199999999999999983222784.000000  -  0.300000\n",
      "reszek:\n",
      "[5.193363429291637e-34, -2.7755555615628914e-17, 0.30000000000000004, 2e+23]\n",
      "a és b: 0.100000  -  0.000000\n",
      "felso és also: 0.100000  -  0.000000\n",
      "a és b: 0.100000  -  -0.000000\n",
      "felso és also: 0.100000  -  0.000000\n",
      "a és b: 0.300000  -  0.100000\n",
      "felso és also: 0.400000  -  0.000000\n",
      "a és b: 199999999999999983222784.000000  -  0.400000\n",
      "felso és also: 199999999999999983222784.000000  -  0.400000\n",
      "reszek:\n",
      "[5.193363429291637e-34, 1.9999999999480663e-23, 0.4, 2e+23]\n",
      "a és b: -99999999999999991611392.000000  -  0.000000\n",
      "felso és also: -99999999999999991611392.000000  -  0.000000\n",
      "a és b: -99999999999999991611392.000000  -  0.000000\n",
      "felso és also: -99999999999999991611392.000000  -  0.000000\n",
      "a és b: -99999999999999991611392.000000  -  0.400000\n",
      "felso és also: -99999999999999991611392.000000  -  0.400000\n",
      "a és b: 199999999999999983222784.000000  -  -99999999999999991611392.000000\n",
      "felso és also: 99999999999999991611392.000000  -  0.000000\n",
      "reszek:\n",
      "[5.193363429291637e-34, 1.9999999999480663e-23, 0.4, 1e+23]\n",
      "a és b: -99999999999999991611392.000000  -  0.000000\n",
      "felso és also: -99999999999999991611392.000000  -  0.000000\n",
      "a és b: -99999999999999991611392.000000  -  0.000000\n",
      "felso és also: -99999999999999991611392.000000  -  0.000000\n",
      "a és b: -99999999999999991611392.000000  -  0.400000\n",
      "felso és also: -99999999999999991611392.000000  -  0.400000\n",
      "a és b: -99999999999999991611392.000000  -  99999999999999991611392.000000\n",
      "felso és also: 0.000000  -  0.000000\n",
      "reszek:\n",
      "[5.193363429291637e-34, 1.9999999999480663e-23, 0.4, 0.0]\n",
      "0.4\n"
     ]
    }
   ],
   "source": [
    "def okos_osszeado(szamlista):\n",
    "    \"Egy listában tárolom az összeadás részeit a folyamat során, majd a végén összegzem\"\n",
    "\n",
    "    reszek = []               # rendezett tagjai az összeadás pillanatnyi eredményeinek (abszolútérték szerint pakolgat)\n",
    "    for a in szamlista:\n",
    "        i = 0\n",
    "        for b in reszek:\n",
    "            if abs(a) < abs(b):\n",
    "                a, b = b, a\n",
    "            print(\"a és b: %f  -  %f\" %(a,b)) #szemléltetés\n",
    "            felso = a + b #a+b maxja (abszolútértékben)\n",
    "            also = b - (felso - a) #a maradék\n",
    "            print(\"felso és also: %f  -  %f\" %(felso,also)) #szemléltetés\n",
    "            if also:\n",
    "                reszek[i] = also #itt kerül be a maradék a reszek listába\n",
    "                i += 1\n",
    "            a = felso\n",
    "        reszek[i:] = [a] #itt kerül be az a+b max a reszek listába\n",
    "        print(\"reszek:\") #szemléltetés\n",
    "        print((reszek)) #szemléltetés\n",
    "    return sum(reszek, 0.0) #végső összegzés, 0.0, hogy float legyen (típuskonverzió)\n",
    "\n",
    "print(okos_osszeado([1e23,0.1,1e-23,0.1,1e23,0.1,1e-23,0.1,-1e23,-1e23]))"
   ]
  },
  {
   "cell_type": "markdown",
   "metadata": {},
   "source": [
    "# 4. feladat"
   ]
  },
  {
   "cell_type": "code",
   "execution_count": 18,
   "metadata": {},
   "outputs": [],
   "source": [
    "def pontgenerator(N=1000):\n",
    "    x=[]\n",
    "    y=[]\n",
    "    for i in range(N):\n",
    "        x.append(random.uniform(0,1))\n",
    "        y.append(random.uniform(0,1))\n",
    "    return x,y\n",
    "\n",
    "x,y=pontgenerator()"
   ]
  },
  {
   "cell_type": "code",
   "execution_count": 19,
   "metadata": {},
   "outputs": [
    {
     "data": {
      "text/plain": [
       "Text(0, 0.5, 'y tengely')"
      ]
     },
     "execution_count": 19,
     "metadata": {},
     "output_type": "execute_result"
    },
    {
     "data": {
      "image/png": "[encoded data removed]",
      "text/plain": [
       "<Figure size 576x576 with 1 Axes>"
      ]
     },
     "metadata": {
      "needs_background": "light"
     },
     "output_type": "display_data"
    }
   ],
   "source": [
    "plt.figure(figsize=(8,8))\n",
    "plt.plot(x,y,linestyle='', marker='o')\n",
    "plt.title(\"Negyzet pontok\",fontsize=24)\n",
    "plt.xlabel(\"x tengely\",fontsize=14)\n",
    "plt.ylabel(\"y tengely\",fontsize=14)"
   ]
  },
  {
   "cell_type": "code",
   "execution_count": 20,
   "metadata": {},
   "outputs": [],
   "source": [
    "np.savetxt('negyzet_pontok.txt',[x,y])"
   ]
  },
  {
   "cell_type": "code",
   "execution_count": 21,
   "metadata": {},
   "outputs": [],
   "source": [
    "def eloszlas(x,y):\n",
    "    hosszok=[0]\n",
    "    for i in range(len(x)):\n",
    "        hossz_min=2\n",
    "        for j in range(len(x)):\n",
    "            hossz=math.sqrt((x[i]-x[j])**2+(y[i]-y[j])**2)\n",
    "            if (hossz<hossz_min and i!=j):\n",
    "                hossz_min=hossz\n",
    "        hosszok.append(hossz_min)\n",
    "    hosszok.sort()\n",
    "    return hosszok,range(len(x)+1)\n",
    "\n",
    "hosszok,ydb=eloszlas(x,y)"
   ]
  },
  {
   "cell_type": "code",
   "execution_count": 22,
   "metadata": {},
   "outputs": [
    {
     "data": {
      "text/plain": [
       "Text(0, 0.5, 'y tengely')"
      ]
     },
     "execution_count": 22,
     "metadata": {},
     "output_type": "execute_result"
    },
    {
     "data": {
      "image/png": "[encoded data removed]",
      "text/plain": [
       "<Figure size 576x432 with 1 Axes>"
      ]
     },
     "metadata": {
      "needs_background": "light"
     },
     "output_type": "display_data"
    }
   ],
   "source": [
    "plt.figure(figsize=(8,6))\n",
    "plt.plot(hosszok,ydb)\n",
    "plt.title(\"Legrövidebb távolságok eloszlása\",fontsize=24)\n",
    "plt.xlabel(\"x tengely\",fontsize=14)\n",
    "plt.ylabel(\"y tengely\",fontsize=14)"
   ]
  },
  {
   "cell_type": "markdown",
   "metadata": {},
   "source": [
    "# 5. feladat"
   ]
  },
  {
   "cell_type": "code",
   "execution_count": 23,
   "metadata": {},
   "outputs": [
    {
     "data": {
      "text/plain": [
       "-7.937253933193772"
      ]
     },
     "execution_count": 23,
     "metadata": {},
     "output_type": "execute_result"
    }
   ],
   "source": [
    "a=-3*math.sqrt(7)\n",
    "a"
   ]
  },
  {
   "cell_type": "code",
   "execution_count": 44,
   "metadata": {},
   "outputs": [
    {
     "data": {
      "text/plain": [
       "float"
      ]
     },
     "execution_count": 44,
     "metadata": {},
     "output_type": "execute_result"
    }
   ],
   "source": [
    "type(a)"
   ]
  },
  {
   "cell_type": "code",
   "execution_count": 41,
   "metadata": {},
   "outputs": [
    {
     "name": "stdout",
     "output_type": "stream",
     "text": [
      "Abszolút hiba: 0.037254\n",
      "Relatív hiba: -0.46935544090349707%\n"
     ]
    }
   ],
   "source": [
    "#B=10 , p=2\n",
    "a_10=-7.9e0\n",
    "hiba_10_abs=a_10-a\n",
    "hiba_10_rel=hiba_10_abs/a\n",
    "print(\"Abszolút hiba: %f\" %(hiba_10_abs))\n",
    "print(\"Relatív hiba: {}%\".format(100*hiba_10_rel))\n",
    "#Ha a program levág, akkor 0<= hiba <= 1e(k-p+1) (itt ez 0.1)\n",
    "#Ha a program kerekít, akkor 0<= hiba <= 5e(k-p) (itt ez 0.05)\n",
    "#Itt a pontos abszolut hiba = hiba_10_abs"
   ]
  },
  {
   "cell_type": "code",
   "execution_count": 46,
   "metadata": {},
   "outputs": [
    {
     "data": {
      "text/plain": [
       "3237871100"
      ]
     },
     "execution_count": 46,
     "metadata": {},
     "output_type": "execute_result"
    }
   ],
   "source": [
    "#B=16 , p=4\n",
    "#https://gregstoll.com/~gregstoll/floattohex/\n",
    "\n",
    "b=0xc0fdfdfc\n",
    "b"
   ]
  },
  {
   "cell_type": "code",
   "execution_count": 48,
   "metadata": {},
   "outputs": [],
   "source": [
    "ALPHABET = \\\n",
    "  \"0123456789abcdefghijklmnopqrstuvwxyz\"\n",
    "\n",
    "def encode (n):\n",
    "    try:\n",
    "        return ALPHABET [n]\n",
    "    except IndexError:\n",
    "        raise Exception (\"cannot encode: %s\" % n)\n",
    "\n",
    "def dec_to_base (dec = 0, base = 16):\n",
    "    if dec < base:\n",
    "        return encode (dec)\n",
    "    else:\n",
    "        return dec_to_base (dec // base, base) + encode (dec % base)"
   ]
  },
  {
   "cell_type": "code",
   "execution_count": 51,
   "metadata": {},
   "outputs": [
    {
     "data": {
      "text/plain": [
       "'101012'"
      ]
     },
     "execution_count": 51,
     "metadata": {},
     "output_type": "execute_result"
    }
   ],
   "source": [
    "dec_to_base (275, 3)"
   ]
  },
  {
   "cell_type": "markdown",
   "metadata": {},
   "source": [
    "# 6. feladat"
   ]
  },
  {
   "cell_type": "markdown",
   "metadata": {},
   "source": [
    "![1_6_1.JPG](1_6_1.JPG)"
   ]
  },
  {
   "cell_type": "code",
   "execution_count": 60,
   "metadata": {},
   "outputs": [],
   "source": [
    "#x**2-10**8*x+1\n",
    "a=1\n",
    "b=-10**8\n",
    "c=1"
   ]
  },
  {
   "cell_type": "code",
   "execution_count": 65,
   "metadata": {},
   "outputs": [
    {
     "name": "stdout",
     "output_type": "stream",
     "text": [
      "100000000.0\n",
      "7.450580596923828e-09\n"
     ]
    }
   ],
   "source": [
    "y1=(10**8+math.sqrt(10**16-4))/2\n",
    "y2=(10**8-math.sqrt(10**16-4))/2\n",
    "print(y1)\n",
    "print(y2)"
   ]
  },
  {
   "cell_type": "code",
   "execution_count": 66,
   "metadata": {},
   "outputs": [
    {
     "name": "stdout",
     "output_type": "stream",
     "text": [
      "134217728.0\n",
      "1e-08\n"
     ]
    }
   ],
   "source": [
    "z1=2/(10**8-math.sqrt(10**16-4))\n",
    "z2=2/(10**8+math.sqrt(10**16-4))\n",
    "print(z1)\n",
    "print(z2)"
   ]
  },
  {
   "cell_type": "code",
   "execution_count": 67,
   "metadata": {},
   "outputs": [
    {
     "name": "stdout",
     "output_type": "stream",
     "text": [
      "134217728.0\n",
      "1.34217728\n",
      "100000000.0\n",
      "0.7450580596923828\n",
      "134217728.0\n",
      "1.0\n",
      "100000000.00000001\n",
      "1.0\n"
     ]
    }
   ],
   "source": [
    "#helyes megoldáspár a Viete-formulák alapján: x1+x2=100000000 , x1*x2=1\n",
    "print(z1+z2)\n",
    "print(z1*z2)\n",
    "\n",
    "print(y1+y2)\n",
    "print(y1*y2)\n",
    "\n",
    "print(z1+y2)\n",
    "print(z1*y2)\n",
    "\n",
    "print(y1+z2)\n",
    "print(y1*z2)"
   ]
  },
  {
   "cell_type": "code",
   "execution_count": 68,
   "metadata": {},
   "outputs": [
    {
     "name": "stdout",
     "output_type": "stream",
     "text": [
      "100000000.0\n",
      "1e-08\n"
     ]
    }
   ],
   "source": [
    "#Nyertesek:\n",
    "x1=y1\n",
    "x2=z2\n",
    "print(x1)\n",
    "print(x2)"
   ]
  },
  {
   "cell_type": "markdown",
   "metadata": {},
   "source": [
    "# 7. feladat\n",
    "\n",
    "A Morze-kódban használt mintázatok időtartama erősen korrelál a mintázat által kódolt betű tipikus angol szövegbeli előfordulási valószínűségével. Mutasd meg mennyire teljesül ez az összefüggés"
   ]
  },
  {
   "cell_type": "code",
   "execution_count": 1,
   "metadata": {},
   "outputs": [
    {
     "name": "stdout",
     "output_type": "stream",
     "text": [
      "Az eredmény erős negatív korreláció: -0.82\n"
     ]
    },
    {
     "data": {
      "image/png": "[encoded data removed]",
      "text/plain": [
       "<Figure size 432x288 with 1 Axes>"
      ]
     },
     "metadata": {
      "needs_background": "light"
     },
     "output_type": "display_data"
    }
   ],
   "source": [
    "import numpy as np\n",
    "import matplotlib.pyplot as plt\n",
    "\n",
    "#abc gyakorisag\n",
    "abc=np.array([8.167,1.492,2.202,4.253,12.702,2.228,2.015,6.094,6.966,0.153,1.292,4.025,2.406,6.749,7.507,1.929,0.095,5.987,6.327,9.356,2.758,0.978,2.560,0.150,1.994,0.077])\n",
    "\n",
    "#morse abc jeleinek hossza\n",
    "morse_abc=np.array([5,9,11,7,1,9,9,7,3,13,9,9,7,5,11,11,13,7,5,3,7,9,9,11,13,11])\n",
    "\n",
    "corr = np.corrcoef(morse_abc, abc)\n",
    "\n",
    "plt.plot(morse_abc,abc,'.')\n",
    "plt.plot(morse_abc,corr[0,1]*morse_abc+11)\n",
    "print(f\"Az eredmény erős negatív korreláció: {round(corr[0,1],2)}\")"
   ]
  }
 ],
 "metadata": {
  "kernelspec": {
   "display_name": "Python 3 (ipykernel)",
   "language": "python",
   "name": "python3"
  },
  "language_info": {
   "codemirror_mode": {
    "name": "ipython",
    "version": 3
   },
   "file_extension": ".py",
   "mimetype": "text/x-python",
   "name": "python",
   "nbconvert_exporter": "python",
   "pygments_lexer": "ipython3",
   "version": "3.10.4"
  }
 },
 "nbformat": 4,
 "nbformat_minor": 2
}
